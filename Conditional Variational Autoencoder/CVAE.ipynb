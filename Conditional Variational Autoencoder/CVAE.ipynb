{
 "cells": [
  {
   "cell_type": "code",
   "execution_count": 5,
   "metadata": {},
   "outputs": [],
   "source": [
    "import torch.cuda\n",
    "import torchvision\n",
    "from torchvision import transforms,datasets\n",
    "import torch.nn as nn\n",
    "import torch.nn.functional as F\n",
    "import numpy as np\n",
    "device = torch.device('cuda' if torch.cuda.is_available() else 'cpu')\n",
    "# torch.seed=41\n",
    "import matplotlib.pyplot as plt"
   ]
  },
  {
   "cell_type": "code",
   "execution_count": 6,
   "metadata": {},
   "outputs": [
    {
     "data": {
      "text/plain": [
       "(60000, 28, 28, 1)"
      ]
     },
     "execution_count": 6,
     "metadata": {},
     "output_type": "execute_result"
    }
   ],
   "source": [
    "train_set = datasets.MNIST('./data', train=True, download=False)\n",
    "test_set = datasets.MNIST('./data', train=False, download=False)\n",
    "train_img = train_set.data.numpy()\n",
    "test_img = test_set.data.numpy()\n",
    "train_label=train_set.targets.numpy()\n",
    "test_label=test_set.targets.numpy()\n",
    "train_label=torch.Tensor(train_label)\n",
    "test_label=torch.Tensor(test_label)\n",
    "train_img = train_img.reshape(-1, 28, 28,1)\n",
    "train_img.shape\n",
    "# train_label"
   ]
  },
  {
   "cell_type": "code",
   "execution_count": 7,
   "metadata": {},
   "outputs": [
    {
     "name": "stdout",
     "output_type": "stream",
     "text": [
      "torch.Size([60000, 1, 28, 28])\n",
      "MNIST Image\n"
     ]
    },
    {
     "data": {
      "image/png": "[encoded data removed]",
      "text/plain": [
       "<Figure size 432x288 with 2 Axes>"
      ]
     },
     "metadata": {
      "needs_background": "light"
     },
     "output_type": "display_data"
    }
   ],
   "source": [
    "batch_size = 180\n",
    "train_images = torch.Tensor(train_img).view(train_img.shape[0],1,28,28)\n",
    "test_images = torch.Tensor(test_img).view(test_img.shape[0],1,28,28)\n",
    "print(train_images.shape)\n",
    "print(\"MNIST Image\")\n",
    "fig, axes = plt.subplots(1,2)\n",
    "axes[0].imshow(train_img[14],cmap=\"gray\")\n",
    "axes[1].imshow(train_img[15],cmap=\"gray\")\n",
    "plt.show()"
   ]
  },
  {
   "cell_type": "code",
   "execution_count": 8,
   "metadata": {},
   "outputs": [
    {
     "data": {
      "text/plain": [
       "torch.Size([60000, 10])"
      ]
     },
     "execution_count": 8,
     "metadata": {},
     "output_type": "execute_result"
    }
   ],
   "source": [
    "# batch_size = 400\n",
    "train_images = torch.Tensor(train_img).view(train_img.shape[0],1,28,28).to(device)\n",
    "test_images = torch.Tensor(test_img).view(test_img.shape[0],1,28,28).to(device)\n",
    "train_label=F.one_hot(train_label.to(torch.int64),10).to(device)\n",
    "test_label=F.one_hot(test_label.to(torch.int64),10).to(device)\n",
    "train_label.shape"
   ]
  },
  {
   "cell_type": "code",
   "execution_count": 21,
   "metadata": {},
   "outputs": [],
   "source": [
    "class AE(nn.Module):\n",
    "    def __init__(self):\n",
    "        super().__init__()\n",
    "        self.encoder = nn.Sequential(\n",
    "                nn.Linear(794,512).to(device),\n",
    "                nn.ReLU(),\n",
    "                nn.Linear(512,256).to(device),\n",
    "                nn.ReLU(),\n",
    "                nn.Linear(256,128).to(device),\n",
    "                nn.ReLU(),\n",
    "                nn.Linear(128,64).to(device),\n",
    "                nn.ReLU()\n",
    "        )\n",
    "        self.decoder = nn.Sequential(\n",
    "                nn.Linear(32,64).to(device),\n",
    "                nn.ReLU(),\n",
    "                nn.Linear(64,128).to(device),\n",
    "                nn.ReLU(),\n",
    "                nn.Linear(128,256).to(device),\n",
    "                nn.ReLU(),\n",
    "                nn.Linear(256,512).to(device),\n",
    "                nn.ReLU(),\n",
    "                nn.Linear(512,784).to(device),\n",
    "                nn.ReLU()\n",
    "        )\n",
    "    \n",
    "    def forward(self,x,x_label):\n",
    "        x=x.view(x.shape[0],-1)\n",
    "        input_val=x\n",
    "#         print(x.shape,x_label.shape)\n",
    "        x=torch.cat((x,x_label),1)\n",
    "#         print(x.shape)\n",
    "        x=self.encoder(x)\n",
    "        mean,std=torch.chunk(x,2,dim=1)\n",
    "        x = mean + torch.randn_like(std).to(device)*std\n",
    "        x=self.decoder(x)\n",
    "#         print(x.shape)\n",
    "        return input_val,x,mean,std\n",
    "AutoEncoder = AE()\n",
    "# AutoEncoder"
   ]
  },
  {
   "cell_type": "code",
   "execution_count": 22,
   "metadata": {},
   "outputs": [],
   "source": [
    "import torch.optim as optim\n",
    "optimiser = torch.optim.Adam(AutoEncoder.parameters(), lr=0.005)\n",
    "loss_list = []"
   ]
  },
  {
   "cell_type": "code",
   "execution_count": 23,
   "metadata": {},
   "outputs": [],
   "source": [
    "def variational_loss(output,X_in,mean,std):\n",
    "    loss_function = nn.MSELoss()\n",
    "    loss_by_function=loss_function(output,X_in)\n",
    "    kl_loss= -0.005*torch.sum(1+torch.log(torch.pow(std,2)+1e-10)-torch.pow(std,2)-torch.pow(mean,2))\n",
    "    total_loss=loss_by_function+kl_loss\n",
    "    return total_loss"
   ]
  },
  {
   "cell_type": "code",
   "execution_count": 31,
   "metadata": {},
   "outputs": [],
   "source": [
    "def train(X,X_label):\n",
    "    for epoch in range(0,20):\n",
    "        cost = 0\n",
    "#         batch = torch.from_numpy(np.arange(0,X.shape[0],dtype=\"int64\"))\n",
    "#If you would like to check with arange instead of randperm, then uncomment above and comment below lines respectively\n",
    "        batch=torch.randperm(X.shape[0])\n",
    "        for i in range(0, X.shape[0],batch_size):\n",
    "            input_value,output,mean,std = AutoEncoder(X[batch[i:i+batch_size]].to(device),X_label[batch[i:i+batch_size]].to(device))\n",
    "            optimiser.zero_grad()\n",
    "            loss=variational_loss(output,input_value,mean,std)\n",
    "            cost = cost+loss.item() \n",
    "            loss.backward()\n",
    "            optimiser.step()\n",
    "        loss_avg = cost / X.shape[0]\n",
    "        loss_list.append(loss_avg)\n",
    "        print(\"For iteration: \", epoch+1, \" the loss is :\", loss_avg)\n",
    "#         a=mean.detach().numpy()\n",
    "#         plt.scatter(a[:,0],a[:,1])\n",
    "#         break\n",
    "    return loss_list"
   ]
  },
  {
   "cell_type": "code",
   "execution_count": 32,
   "metadata": {},
   "outputs": [
    {
     "name": "stdout",
     "output_type": "stream",
     "text": [
      "For iteration:  1  the loss is : 17.91008721516927\n",
      "For iteration:  2  the loss is : 18.327495935058593\n",
      "For iteration:  3  the loss is : 18.432762825520832\n",
      "For iteration:  4  the loss is : 17.805266723632812\n",
      "For iteration:  5  the loss is : 17.743521529134114\n",
      "For iteration:  6  the loss is : 17.313609407552082\n",
      "For iteration:  7  the loss is : 17.337067106119793\n",
      "For iteration:  8  the loss is : 17.249230615234374\n",
      "For iteration:  9  the loss is : 17.22629161783854\n",
      "For iteration:  10  the loss is : 17.469138505045574\n",
      "For iteration:  11  the loss is : 17.72248817545573\n",
      "For iteration:  12  the loss is : 17.63664982910156\n",
      "For iteration:  13  the loss is : 17.103605611165364\n",
      "For iteration:  14  the loss is : 16.887898038736978\n",
      "For iteration:  15  the loss is : 16.659801493326825\n",
      "For iteration:  16  the loss is : 16.93244103597005\n",
      "For iteration:  17  the loss is : 16.570082779947917\n",
      "For iteration:  18  the loss is : 16.352812093098958\n",
      "For iteration:  19  the loss is : 16.197722639973957\n",
      "For iteration:  20  the loss is : 16.157843607584635\n"
     ]
    },
    {
     "data": {
      "image/png": "[encoded data removed]",
      "text/plain": [
       "<Figure size 432x288 with 1 Axes>"
      ]
     },
     "metadata": {
      "needs_background": "light"
     },
     "output_type": "display_data"
    }
   ],
   "source": [
    "import matplotlib.pyplot as plt\n",
    "train_loss= train(train_images,train_label)\n",
    "plt.plot(loss_list)\n",
    "plt.ylabel('cost')\n",
    "plt.xlabel('epoch')\n",
    "plt.show()"
   ]
  },
  {
   "cell_type": "code",
   "execution_count": 33,
   "metadata": {},
   "outputs": [
    {
     "name": "stdout",
     "output_type": "stream",
     "text": [
      "16.12301579589844\n"
     ]
    }
   ],
   "source": [
    "def test(X,X_lab):\n",
    "    with torch.no_grad():\n",
    "        cost=0\n",
    "        batch=torch.randperm(X.shape[0])\n",
    "        for i in range(0, X.shape[0],batch_size):\n",
    "            test_input,test_output,mean,std=AutoEncoder(X[batch[i:i+batch_size]].to(device),X_lab[batch[i:i+batch_size]].to(device))\n",
    "            loss=variational_loss(test_output,test_input,mean,std)\n",
    "            cost=cost+loss.item()\n",
    "        print(cost/X.shape[0])\n",
    "test(test_images,test_label)"
   ]
  },
  {
   "cell_type": "code",
   "execution_count": 38,
   "metadata": {},
   "outputs": [
    {
     "name": "stdout",
     "output_type": "stream",
     "text": [
      "MNIST Image\n"
     ]
    },
    {
     "data": {
      "image/png": "[encoded data removed]",
      "text/plain": [
       "<Figure size 432x288 with 2 Axes>"
      ]
     },
     "metadata": {
      "needs_background": "light"
     },
     "output_type": "display_data"
    },
    {
     "name": "stdout",
     "output_type": "stream",
     "text": [
      "Image through Conditional Variational AutoEncoder\n"
     ]
    },
    {
     "data": {
      "image/png": "[encoded data removed]",
      "text/plain": [
       "<Figure size 432x288 with 2 Axes>"
      ]
     },
     "metadata": {
      "needs_background": "light"
     },
     "output_type": "display_data"
    }
   ],
   "source": [
    "#Normal Image\n",
    "print(\"MNIST Image\")\n",
    "fig, axes = plt.subplots(1,2)\n",
    "axes[0].imshow(test_img[14],cmap=\"gray\")\n",
    "axes[1].imshow(test_img[10],cmap=\"gray\")\n",
    "\n",
    "plt.show()\n",
    "\n",
    "print(\"Image through Conditional Variational AutoEncoder\")\n",
    "output_imgs=AutoEncoder(test_images[0:40].to(device),test_label[0:40].to(device))\n",
    "output_img=(output_imgs[1].to(torch.device('cpu')).detach().numpy()).reshape(40,28,28)\n",
    "\n",
    "fig, axes = plt.subplots(1,2)\n",
    "axes[0].imshow(output_img[14],cmap=\"gray\")\n",
    "axes[1].imshow(output_img[10],cmap=\"gray\")\n",
    "plt.show()"
   ]
  },
  {
   "cell_type": "code",
   "execution_count": 35,
   "metadata": {},
   "outputs": [],
   "source": [
    "# https://medium.com/@galexik81/5-lifesaving-pytorch-functions-519d134df9b1\n",
    "#Visit the above blog to know more about torch.chunk"
   ]
  }
 ],
 "metadata": {
  "kernelspec": {
   "display_name": "Python 3",
   "language": "python",
   "name": "python3"
  },
  "language_info": {
   "codemirror_mode": {
    "name": "ipython",
    "version": 3
   },
   "file_extension": ".py",
   "mimetype": "text/x-python",
   "name": "python",
   "nbconvert_exporter": "python",
   "pygments_lexer": "ipython3",
   "version": "3.8.5"
  }
 },
 "nbformat": 4,
 "nbformat_minor": 4
}
